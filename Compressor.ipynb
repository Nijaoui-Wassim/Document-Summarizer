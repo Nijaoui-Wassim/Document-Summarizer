{
 "cells": [
  {
   "cell_type": "markdown",
   "id": "2cfeae6b",
   "metadata": {},
   "source": [
    "# Algorithm: PDF / word Compressor\n",
    "### Input: pdf or word and compression factor \n",
    "### Output: a pdf or word file with the compressed documents\n",
    "\n",
    "##### compression factor explanation: \n",
    "###### 1 takes all text at once\n",
    "###### 2 takes text between images \n",
    "###### 3 takes text for each pharagraph or a page"
   ]
  },
  {
   "cell_type": "markdown",
   "id": "5a889eda",
   "metadata": {},
   "source": [
    "# Import required libraries"
   ]
  },
  {
   "cell_type": "code",
   "execution_count": 1,
   "id": "a331de7e",
   "metadata": {},
   "outputs": [],
   "source": [
    "# ! pip install docx\n",
    "# ! pip install python-docx \n",
    "# ! python3 -m pip install python-docx\n",
    "# ! pip install exceptions"
   ]
  },
  {
   "cell_type": "code",
   "execution_count": 1,
   "id": "cf7bb8bb",
   "metadata": {},
   "outputs": [
    {
     "name": "stderr",
     "output_type": "stream",
     "text": [
      "C:\\ProgramData\\Anaconda3\\lib\\site-packages\\PyPDF2\\_utils.py:72: UserWarning: isString is deprecated and will be removed in PyPDF2 2.0.0.\n",
      "  warnings.warn(DEPR_MSG_NO_REPLACEMENT.format(\"isString\"))\n",
      "WARNING:root:Limited tf.compat.v2.summary API due to missing TensorBoard installation.\n",
      "WARNING:root:Limited tf.compat.v2.summary API due to missing TensorBoard installation.\n",
      "WARNING:root:Limited tf.compat.v2.summary API due to missing TensorBoard installation.\n",
      "WARNING:root:Limited tf.summary API due to missing TensorBoard installation.\n",
      "WARNING:root:Limited tf.compat.v2.summary API due to missing TensorBoard installation.\n",
      "WARNING:root:Limited tf.compat.v2.summary API due to missing TensorBoard installation.\n",
      "WARNING:root:Limited tf.compat.v2.summary API due to missing TensorBoard installation.\n"
     ]
    }
   ],
   "source": [
    "import ipywidgets as widgets\n",
    "import PyPDF2\n",
    "import docx\n",
    "from transformers import pipeline\n",
    "from IPython.display import HTML, display"
   ]
  },
  {
   "cell_type": "code",
   "execution_count": 2,
   "id": "c9714093",
   "metadata": {},
   "outputs": [],
   "source": [
    "# Creating the summarizer instance:\n",
    "summarizer = pipeline(\"summarization\", model=\"knkarthick/MEETING_SUMMARY\")"
   ]
  },
  {
   "cell_type": "markdown",
   "id": "ddea218e",
   "metadata": {},
   "source": [
    "# Helper functions"
   ]
  },
  {
   "cell_type": "code",
   "execution_count": 18,
   "id": "fb564de0",
   "metadata": {},
   "outputs": [],
   "source": [
    "def compress_pdf(file_name, compression_factor):\n",
    "    # Open the PDF file\n",
    "    #with open(file_name, 'rb') as pdf_file:\n",
    "    # Create a PDF reader object\n",
    "    pdf_reader = PyPDF2.PdfFileReader(file_name)\n",
    "    # Create a PDF writer object\n",
    "    pdf_writer = PyPDF2.PdfFileWriter()\n",
    "    # Loop through all pages of the PDF\n",
    "    output = \"\"\n",
    "    for page_num in range(pdf_reader.numPages):\n",
    "        # Get the current page\n",
    "        page = pdf_reader.getPage(page_num)\n",
    "        # Compress the page text using the summarizer function\n",
    "        text = str(page.extractText())\n",
    "        #print(text)\n",
    "        page_text = summarizer(text, truncation=True)  #, compression_factor\n",
    "        # Create a new page with the compressed text\n",
    "        output += \"\\n\" + str(page_text[0]['summary_text'])\n",
    "        #new_page = PyPDF2.generic.TextStringObject(output)\n",
    "\n",
    "        # Add the new page to the PDF writer object\n",
    "        #pdf_writer.addPage(new_page)\n",
    "    # Create a new PDF file with the compressed pages\n",
    "    #with open('compressed_' + file_name, 'wb') as compressed_file:\n",
    "        #pdf_writer.write(compressed_file)\n",
    "    return output\n",
    "            \n",
    "\n",
    "def compress_word(file_name, compression_factor):\n",
    "    # Open the Word file\n",
    "    doc = docx.Document(file_name)\n",
    "    output = \"\"\n",
    "    txt = \"\"\n",
    "    # Loop through all paragraphs in the Word file\n",
    "    for para in doc.paragraphs:\n",
    "        txt+= \". \"+ para.text\n",
    "    \n",
    "    # Compress the paragraph text using the summarizer function     para.text \n",
    "    output += \"\\n\" + summarizer(txt, truncation=True)[0]['summary_text'] #, compression_factor\n",
    "    # Save the compressed Word file\n",
    "    #doc.save('compressed_' + file_name)\n",
    "    return output\n",
    "    \n",
    "    \n",
    "# Define a function to handle the button click event\n",
    "def on_button_clicked(b):\n",
    "    # Clear the output widget\n",
    "    output.clear_output()\n",
    "    # Get the uploaded file\n",
    "    file = upload.value[list(upload.value.keys())[0]]\n",
    "    # Get the file name and extension\n",
    "    file_name, file_ext = file['metadata']['name'].split('.')\n",
    "    # Get the selected compression factor\n",
    "    factor = compression_factor.value\n",
    "    # Check the file extension and call the appropriate compression function\n",
    "    if file_ext == 'pdf':\n",
    "        out = compress_pdf(file_name + '.' + file_ext, factor)\n",
    "    elif file_ext == 'docx':\n",
    "        out = compress_word(file_name + '.' + file_ext, factor)\n",
    "    else:\n",
    "        print('Error: Unsupported file type')\n",
    "    \n",
    "    # Convert the compressed file to HTML\n",
    "    html = HTML(out)\n",
    "    # Append the HTML to the output widget\n",
    "    output.append_display_data(html)"
   ]
  },
  {
   "cell_type": "code",
   "execution_count": 20,
   "id": "bfb2363d",
   "metadata": {},
   "outputs": [
    {
     "data": {
      "application/vnd.jupyter.widget-view+json": {
       "model_id": "335d0bbcaa7f4a419bc26d1d57a91a46",
       "version_major": 2,
       "version_minor": 0
      },
      "text/plain": [
       "VBox(children=(FileUpload(value={}, accept='.pdf,.docx', description='Select file:', layout=Layout(width='50%'…"
      ]
     },
     "metadata": {},
     "output_type": "display_data"
    }
   ],
   "source": [
    "# Import required libraries\n",
    "import PyPDF2\n",
    "import docx\n",
    "import ipywidgets as widgets\n",
    "from IPython.display import HTML, display\n",
    "\n",
    "# Create a custom style for the GUI elements\n",
    "style = \"\"\"\n",
    "<style>\n",
    "    .widget-label {\n",
    "        font-size: 18px;\n",
    "        font-weight: bold;\n",
    "        color: #333;\n",
    "    }\n",
    "    .widget-upload {\n",
    "        font-size: 16px;\n",
    "        padding: 10px 20px;\n",
    "        border: 2px solid #333;\n",
    "        border-radius: 5px;\n",
    "        transition: all 0.3s;\n",
    "    }\n",
    "    .widget-upload:hover {\n",
    "        border-color: #999;\n",
    "        cursor: pointer;\n",
    "    }\n",
    "    .widget-dropdown {\n",
    "        font-size: 16px;\n",
    "        color: #333;\n",
    "    }\n",
    "    .widget-button {\n",
    "        font-size: 16px;\n",
    "        font-weight: bold;\n",
    "        padding: 10px 20px;\n",
    "        background-color: #333;\n",
    "        color: #fff;\n",
    "        border-radius: 5px;\n",
    "        transition: all 0.3s;\n",
    "    }\n",
    "    .widget-button:hover {\n",
    "        background-color: #999;\n",
    "        cursor: pointer;\n",
    "    }\n",
    "    \n",
    "</style>\n",
    "\"\"\"\n",
    "\n",
    "# Create a file upload widget\n",
    "upload = widgets.FileUpload(\n",
    "    accept='.pdf,.docx',  # Accept only PDF and Word files\n",
    "    multiple=False,  # Allow only one file to be uploaded\n",
    "    description='Select file:',\n",
    "    layout=widgets.Layout(width='50%')\n",
    ")\n",
    "\n",
    "# Create a dropdown widget to select the compression factor\n",
    "compression_factor = widgets.Dropdown(\n",
    "    options=[('All text at once', 1), ('Text between images', 2), ('Text for each paragraph or page', 3)],\n",
    "    value=1,  # Set the default value to 1\n",
    "    description='Compression factor:',\n",
    "    disabled=False\n",
    ")\n",
    "\n",
    "# Create a button to initiate the compression process\n",
    "button = widgets.Button(\n",
    "    description='Compress',\n",
    "    disabled=False,\n",
    "    button_style='success',  # Use a green color for the button\n",
    "    tooltip='Click to compress the selected file',\n",
    "    icon='check'\n",
    ")\n",
    "\n",
    "# Create an output widget to display the compressed file\n",
    "output = widgets.Output()\n",
    "\n",
    "\n",
    "    \n",
    "    \n",
    "# Attach the button click event to the on_button_clicked function\n",
    "button.on_click(on_button_clicked)\n",
    "\n",
    "# Use a Box to layout the GUI elements\n",
    "box = widgets.VBox([upload, compression_factor, button, output])\n",
    "\n",
    "# Add the custom styles\n",
    "HTML(style)\n",
    "\n",
    "display(box)"
   ]
  },
  {
   "cell_type": "code",
   "execution_count": null,
   "id": "bbb0912e",
   "metadata": {},
   "outputs": [],
   "source": []
  }
 ],
 "metadata": {
  "kernelspec": {
   "display_name": "Python 3 (ipykernel)",
   "language": "python",
   "name": "python3"
  },
  "language_info": {
   "codemirror_mode": {
    "name": "ipython",
    "version": 3
   },
   "file_extension": ".py",
   "mimetype": "text/x-python",
   "name": "python",
   "nbconvert_exporter": "python",
   "pygments_lexer": "ipython3",
   "version": "3.9.12"
  }
 },
 "nbformat": 4,
 "nbformat_minor": 5
}
